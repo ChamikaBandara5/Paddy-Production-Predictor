{
  "cells": [
    {
      "cell_type": "code",
      "execution_count": 1,
      "metadata": {
        "id": "0GpMTgY_FWZd"
      },
      "outputs": [],
      "source": [
        "# Step 1: Import Required Libraries\n",
        "# ---------------------------------\n",
        "import pandas as pd\n",
        "import numpy as np\n",
        "import matplotlib.pyplot as plt\n",
        "import seaborn as sns\n",
        "from sklearn.model_selection import cross_val_score\n",
        "from sklearn.model_selection import train_test_split\n",
        "from sklearn.preprocessing import LabelEncoder, StandardScaler\n",
        "from sklearn.ensemble import RandomForestRegressor\n",
        "from sklearn.linear_model import LinearRegression\n",
        "from sklearn.linear_model import LogisticRegression\n",
        "from sklearn.ensemble import RandomForestClassifier\n",
        "from sklearn.metrics import (\n",
        "    accuracy_score,\n",
        "    precision_score,\n",
        "    recall_score,\n",
        "    f1_score,\n",
        "    confusion_matrix,\n",
        "    classification_report\n",
        ")\n",
        "from sklearn.svm import SVC\n",
        "from sklearn.compose import ColumnTransformer\n",
        "from sklearn.pipeline import Pipeline\n",
        "from sklearn.impute import SimpleImputer\n",
        "from sklearn.metrics import accuracy_score, classification_report\n",
        "from sklearn.metrics import mean_squared_error, r2_score\n",
        "\n",
        "import pickle\n",
        "import joblib\n",
        "import warnings\n",
        "warnings.filterwarnings('ignore')"
      ]
    },
    {
      "cell_type": "code",
      "execution_count": 2,
      "metadata": {
        "colab": {
          "base_uri": "https://localhost:8080/"
        },
        "id": "p-xm2b5wGKjL",
        "outputId": "1efb1e4d-e6a5-4a0b-c43f-07961bf3d663"
      },
      "outputs": [
        {
          "name": "stdout",
          "output_type": "stream",
          "text": [
            "Libraries imported successfully!\n"
          ]
        }
      ],
      "source": [
        "# Set style for better plots\n",
        "plt.style.use('seaborn-v0_8')\n",
        "sns.set_palette(\"husl\")\n",
        "print(\"Libraries imported successfully!\")"
      ]
    },
    {
      "cell_type": "code",
      "execution_count": 4,
      "metadata": {
        "id": "uNTtxXeaGQO7"
      },
      "outputs": [],
      "source": [
        "df = pd.read_csv('2023 Yala.csv')"
      ]
    },
    {
      "cell_type": "code",
      "execution_count": 5,
      "metadata": {
        "colab": {
          "base_uri": "https://localhost:8080/"
        },
        "id": "-7c4UDj_HGlS",
        "outputId": "f87a8f9f-9dc8-4ffa-b93b-931ba416758f"
      },
      "outputs": [
        {
          "name": "stdout",
          "output_type": "stream",
          "text": [
            "Dataset loaded successfully!\n",
            "Dataset shape: (26, 15)\n",
            "\n",
            "First 5 rows:\n",
            "   District Major_Schemes_Sown Minor_Schemes_Sown Rainfed_Sown  \\\n",
            "0   COLOMBO                210                278         1730   \n",
            "1   GAMPAHA               1570               1481         5609   \n",
            "2  KALUTARA                112               1090         7930   \n",
            "3     KANDY               4196               3296         2408   \n",
            "4    MATALE               6820               4124          813   \n",
            "\n",
            "  All_Schemes_Sown Major_Schemes_Harvested Minor_Schemes_Harvested  \\\n",
            "0             2218                     208                     278   \n",
            "1             8660                    1454                    1474   \n",
            "2             9132                     112                    1090   \n",
            "3             9900                    4196                    3266   \n",
            "4            11757                    6771                    4039   \n",
            "\n",
            "  Rainfed_Harvested All_Schemes_Harvested Major_Schemes_Yield  \\\n",
            "0              1729                  2215                2133   \n",
            "1              5539                  8467                2370   \n",
            "2              7913                  9115                3122   \n",
            "3              2399                  9861                4811   \n",
            "4               756                 11566                4293   \n",
            "\n",
            "  Minor_Schemes_Yield Rainfed_Yield Average_Yield Nett_Extent_Harvested  \\\n",
            "0                2542          2372          2371                  1883   \n",
            "1                3242          2424          2557                  7197   \n",
            "2                2946          2415          2487                  8408   \n",
            "3                2846          3172          3762                  7798   \n",
            "4                3716          2527          3976                 10402   \n",
            "\n",
            "  Total_Production  \n",
            "0             4464  \n",
            "1            18401  \n",
            "2            20913  \n",
            "3            29335  \n",
            "4            41359  \n"
          ]
        }
      ],
      "source": [
        "# Create DataFrame for easier handling\n",
        "\n",
        "\n",
        "print(\"Dataset loaded successfully!\")\n",
        "print(f\"Dataset shape: {df.shape}\")\n",
        "print(\"\\nFirst 5 rows:\")\n",
        "print(df.head())"
      ]
    },
    {
      "cell_type": "code",
      "execution_count": 6,
      "metadata": {
        "colab": {
          "base_uri": "https://localhost:8080/"
        },
        "id": "f5z-z3RAHIuS",
        "outputId": "00a99c77-3e94-4d22-f609-4a6766287f4d"
      },
      "outputs": [
        {
          "name": "stdout",
          "output_type": "stream",
          "text": [
            "\n",
            "1. Dataset Info:\n",
            "Shape: (26, 15)\n",
            "Columns: ['District', 'Major_Schemes_Sown', 'Minor_Schemes_Sown', 'Rainfed_Sown', 'All_Schemes_Sown', 'Major_Schemes_Harvested', 'Minor_Schemes_Harvested', 'Rainfed_Harvested', 'All_Schemes_Harvested', 'Major_Schemes_Yield', 'Minor_Schemes_Yield', 'Rainfed_Yield', 'Average_Yield', 'Nett_Extent_Harvested', 'Total_Production']\n",
            "Data types:\n",
            "District                   object\n",
            "Major_Schemes_Sown         object\n",
            "Minor_Schemes_Sown         object\n",
            "Rainfed_Sown               object\n",
            "All_Schemes_Sown           object\n",
            "Major_Schemes_Harvested    object\n",
            "Minor_Schemes_Harvested    object\n",
            "Rainfed_Harvested          object\n",
            "All_Schemes_Harvested      object\n",
            "Major_Schemes_Yield        object\n",
            "Minor_Schemes_Yield        object\n",
            "Rainfed_Yield              object\n",
            "Average_Yield              object\n",
            "Nett_Extent_Harvested      object\n",
            "Total_Production           object\n",
            "dtype: object\n"
          ]
        }
      ],
      "source": [
        "# Basic information about the dataset\n",
        "print(\"\\n1. Dataset Info:\")\n",
        "print(f\"Shape: {df.shape}\")\n",
        "print(f\"Columns: {list(df.columns)}\")\n",
        "print(f\"Data types:\\n{df.dtypes}\")"
      ]
    },
    {
      "cell_type": "code",
      "execution_count": 7,
      "metadata": {
        "colab": {
          "base_uri": "https://localhost:8080/"
        },
        "id": "8pg-veUVHOhF",
        "outputId": "e7d986ca-625b-4d33-e78b-13783f3d730a"
      },
      "outputs": [
        {
          "name": "stdout",
          "output_type": "stream",
          "text": [
            "\n",
            "2. Statistical Summary:\n",
            "       District Major_Schemes_Sown Minor_Schemes_Sown Rainfed_Sown  \\\n",
            "count        26                 26                 26           26   \n",
            "unique       26                 24                 26           22   \n",
            "top     COLOMBO                  -                278            -   \n",
            "freq          1                  3                  1            5   \n",
            "\n",
            "       All_Schemes_Sown Major_Schemes_Harvested Minor_Schemes_Harvested  \\\n",
            "count                26                      26                      26   \n",
            "unique               26                      24                      26   \n",
            "top                2218                       -                     278   \n",
            "freq                  1                       3                       1   \n",
            "\n",
            "       Rainfed_Harvested All_Schemes_Harvested Major_Schemes_Yield  \\\n",
            "count                 26                    26                  26   \n",
            "unique                22                    26                  24   \n",
            "top                    -                  2215                   -   \n",
            "freq                   5                     1                   3   \n",
            "\n",
            "       Minor_Schemes_Yield Rainfed_Yield Average_Yield Nett_Extent_Harvested  \\\n",
            "count                   26            26            26                    26   \n",
            "unique                  26            22            26                    26   \n",
            "top                   2542             -          2371                  1883   \n",
            "freq                     1             5             1                     1   \n",
            "\n",
            "       Total_Production  \n",
            "count                26  \n",
            "unique               26  \n",
            "top                4464  \n",
            "freq                  1  \n"
          ]
        }
      ],
      "source": [
        "print(\"\\n2. Statistical Summary:\")\n",
        "print(df.describe())"
      ]
    },
    {
      "cell_type": "code",
      "execution_count": 8,
      "metadata": {
        "colab": {
          "base_uri": "https://localhost:8080/"
        },
        "id": "zYz1tm4YHUif",
        "outputId": "2a05e623-03a9-4e19-9d5a-e074b9fa1c9d"
      },
      "outputs": [
        {
          "name": "stdout",
          "output_type": "stream",
          "text": [
            "\n",
            "3. Target Distribution:\n",
            "Total_Production\n",
            "4464       1\n",
            "18401      1\n",
            "20913      1\n",
            "29335      1\n",
            "41359      1\n",
            "5653       1\n",
            "8527       1\n",
            "22989      1\n",
            "146310     1\n",
            "-          1\n",
            "10918      1\n",
            "21243      1\n",
            "23973      1\n",
            "24355      1\n",
            "105366     1\n",
            "261938     1\n",
            "126977     1\n",
            "206292     1\n",
            "55932      1\n",
            "224321     1\n",
            "287105     1\n",
            "51003      1\n",
            "65066      1\n",
            "37169      1\n",
            "17782      1\n",
            "1817391    1\n",
            "Name: count, dtype: int64\n",
            "\n",
            "Percentage distribution:\n",
            "Total_Production\n",
            "4464       3.846154\n",
            "18401      3.846154\n",
            "20913      3.846154\n",
            "29335      3.846154\n",
            "41359      3.846154\n",
            "5653       3.846154\n",
            "8527       3.846154\n",
            "22989      3.846154\n",
            "146310     3.846154\n",
            "-          3.846154\n",
            "10918      3.846154\n",
            "21243      3.846154\n",
            "23973      3.846154\n",
            "24355      3.846154\n",
            "105366     3.846154\n",
            "261938     3.846154\n",
            "126977     3.846154\n",
            "206292     3.846154\n",
            "55932      3.846154\n",
            "224321     3.846154\n",
            "287105     3.846154\n",
            "51003      3.846154\n",
            "65066      3.846154\n",
            "37169      3.846154\n",
            "17782      3.846154\n",
            "1817391    3.846154\n",
            "Name: proportion, dtype: float64\n"
          ]
        }
      ],
      "source": [
        "print(\"\\n3. Target Distribution:\")\n",
        "print(df['Total_Production'].value_counts())\n",
        "print(f\"\\nPercentage distribution:\")\n",
        "print(df['Total_Production'].value_counts(normalize=True) * 100)"
      ]
    },
    {
      "cell_type": "markdown",
      "metadata": {
        "id": "FIZB3gpaHzAe"
      },
      "source": [
        "#  Check for Missing Values"
      ]
    },
    {
      "cell_type": "code",
      "execution_count": 9,
      "metadata": {
        "colab": {
          "base_uri": "https://localhost:8080/"
        },
        "id": "KMeIeFTUHoyF",
        "outputId": "47f53185-7df7-41f1-ef12-38646f65c407"
      },
      "outputs": [
        {
          "name": "stdout",
          "output_type": "stream",
          "text": [
            "\n",
            "4. Missing Values Check:\n",
            "District                   0\n",
            "Major_Schemes_Sown         0\n",
            "Minor_Schemes_Sown         0\n",
            "Rainfed_Sown               0\n",
            "All_Schemes_Sown           0\n",
            "Major_Schemes_Harvested    0\n",
            "Minor_Schemes_Harvested    0\n",
            "Rainfed_Harvested          0\n",
            "All_Schemes_Harvested      0\n",
            "Major_Schemes_Yield        0\n",
            "Minor_Schemes_Yield        0\n",
            "Rainfed_Yield              0\n",
            "Average_Yield              0\n",
            "Nett_Extent_Harvested      0\n",
            "Total_Production           0\n",
            "dtype: int64\n"
          ]
        }
      ],
      "source": [
        "# --------------------------------\n",
        "print(\"\\n4. Missing Values Check:\")\n",
        "missing_values = df.isnull().sum()\n",
        "print(missing_values)"
      ]
    },
    {
      "cell_type": "markdown",
      "metadata": {
        "id": "kxxIZ4HVIGA4"
      },
      "source": [
        "#  Data Visualization"
      ]
    },
    {
      "cell_type": "code",
      "execution_count": 10,
      "metadata": {
        "colab": {
          "base_uri": "https://localhost:8080/",
          "height": 1000
        },
        "id": "FfJCk0Q-H7Wm",
        "outputId": "7adcf711-191f-49a5-c442-d24836f0d390"
      },
      "outputs": [
        {
          "name": "stdout",
          "output_type": "stream",
          "text": [
            "\n",
            "5. Creating Visualizations...\n"
          ]
        },
        {
          "data": {
            "text/plain": [
              "([0,\n",
              "  1,\n",
              "  2,\n",
              "  3,\n",
              "  4,\n",
              "  5,\n",
              "  6,\n",
              "  7,\n",
              "  8,\n",
              "  9,\n",
              "  10,\n",
              "  11,\n",
              "  12,\n",
              "  13,\n",
              "  14,\n",
              "  15,\n",
              "  16,\n",
              "  17,\n",
              "  18,\n",
              "  19,\n",
              "  20,\n",
              "  21,\n",
              "  22,\n",
              "  23,\n",
              "  24,\n",
              "  25],\n",
              " [Text(0, 0, '4464'),\n",
              "  Text(1, 0, '18401'),\n",
              "  Text(2, 0, '20913'),\n",
              "  Text(3, 0, '29335'),\n",
              "  Text(4, 0, '41359'),\n",
              "  Text(5, 0, '5653'),\n",
              "  Text(6, 0, '8527'),\n",
              "  Text(7, 0, '22989'),\n",
              "  Text(8, 0, '146310'),\n",
              "  Text(9, 0, '-'),\n",
              "  Text(10, 0, '10918'),\n",
              "  Text(11, 0, '21243'),\n",
              "  Text(12, 0, '23973'),\n",
              "  Text(13, 0, '24355'),\n",
              "  Text(14, 0, '105366'),\n",
              "  Text(15, 0, '261938'),\n",
              "  Text(16, 0, '126977'),\n",
              "  Text(17, 0, '206292'),\n",
              "  Text(18, 0, '55932'),\n",
              "  Text(19, 0, '224321'),\n",
              "  Text(20, 0, '287105'),\n",
              "  Text(21, 0, '51003'),\n",
              "  Text(22, 0, '65066'),\n",
              "  Text(23, 0, '37169'),\n",
              "  Text(24, 0, '17782'),\n",
              "  Text(25, 0, '1817391')])"
            ]
          },
          "execution_count": 10,
          "metadata": {},
          "output_type": "execute_result"
        },
        {
          "data": {
            "image/png": "[encoded data removed]",
            "text/plain": [
              "<Figure size 2000x1500 with 1 Axes>"
            ]
          },
          "metadata": {},
          "output_type": "display_data"
        }
      ],
      "source": [
        "print(\"\\n5. Creating Visualizations...\")\n",
        "\n",
        "# Set up the plotting area\n",
        "fig = plt.figure(figsize=(20, 15))\n",
        "\n",
        "# 1. Distribution plots\n",
        "plt.subplot(3, 3, 1)\n",
        "sns.countplot(data=df, x='Total_Production')\n",
        "plt.title('Total_Production Distribution')\n",
        "plt.xticks(rotation=45)"
      ]
    },
    {
      "cell_type": "code",
      "execution_count": 11,
      "metadata": {
        "colab": {
          "base_uri": "https://localhost:8080/"
        },
        "id": "PCjahiRcLweE",
        "outputId": "309a9576-be33-45bc-d5f3-c06168c070d2"
      },
      "outputs": [
        {
          "name": "stdout",
          "output_type": "stream",
          "text": [
            "⚠️ No valid numeric data available for correlation heatmap.\n"
          ]
        }
      ],
      "source": [
        "\n",
        "\n",
        "numeric_df = df.select_dtypes(include=[np.number]).dropna(axis=1, how='all')\n",
        "\n",
        "\n",
        "correlation_matrix = numeric_df.corr()\n",
        "\n",
        "\n",
        "if not correlation_matrix.empty and not correlation_matrix.isnull().all().all():\n",
        "    plt.figure(figsize=(10, 8))\n",
        "    sns.heatmap(correlation_matrix, annot=True, cmap='coolwarm', center=0)\n",
        "    plt.title('Feature Correlation Heatmap')\n",
        "    plt.show()\n",
        "else:\n",
        "    print(\"⚠️ No valid numeric data available for correlation heatmap.\")\n"
      ]
    },
    {
      "cell_type": "markdown",
      "metadata": {
        "id": "nnmWUO91NvjH"
      },
      "source": [
        "#  Feature Engineering"
      ]
    },
    {
      "cell_type": "code",
      "execution_count": 12,
      "metadata": {
        "colab": {
          "base_uri": "https://localhost:8080/"
        },
        "id": "fqdJ9e2DNoCm",
        "outputId": "55cff77d-65c8-479b-b54e-ac31c8d439cf"
      },
      "outputs": [
        {
          "name": "stdout",
          "output_type": "stream",
          "text": [
            "✅ New features created:\n",
            "\n",
            "📌 First 5 rows with new features:\n",
            "   District Major_Schemes_Sown Minor_Schemes_Sown Rainfed_Sown  \\\n",
            "0   COLOMBO                210                278         1730   \n",
            "1   GAMPAHA               1570               1481         5609   \n",
            "2  KALUTARA                112               1090         7930   \n",
            "3     KANDY               4196               3296         2408   \n",
            "4    MATALE               6820               4124          813   \n",
            "\n",
            "  All_Schemes_Sown Major_Schemes_Harvested Minor_Schemes_Harvested  \\\n",
            "0             2218                     208                     278   \n",
            "1             8660                    1454                    1474   \n",
            "2             9132                     112                    1090   \n",
            "3             9900                    4196                    3266   \n",
            "4            11757                    6771                    4039   \n",
            "\n",
            "  Rainfed_Harvested All_Schemes_Harvested Major_Schemes_Yield  \\\n",
            "0              1729                  2215                2133   \n",
            "1              5539                  8467                2370   \n",
            "2              7913                  9115                3122   \n",
            "3              2399                  9861                4811   \n",
            "4               756                 11566                4293   \n",
            "\n",
            "  Minor_Schemes_Yield Rainfed_Yield Average_Yield Nett_Extent_Harvested  \\\n",
            "0                2542          2372          2371                  1883   \n",
            "1                3242          2424          2557                  7197   \n",
            "2                2946          2415          2487                  8408   \n",
            "3                2846          3172          3762                  7798   \n",
            "4                3716          2527          3976                 10402   \n",
            "\n",
            "  Total_Production  \n",
            "0             4464  \n",
            "1            18401  \n",
            "2            20913  \n",
            "3            29335  \n",
            "4            41359  \n"
          ]
        }
      ],
      "source": [
        "if all(col in df.columns for col in ['Male_Farmers', 'Female_Farmers']):\n",
        "    df['Total_Farmers'] = df['Male_Farmers'] + df['Female_Farmers']\n",
        "\n",
        "if all(col in df.columns for col in ['Total_Production', 'Harvest_Area']):\n",
        "    df['Yield_per_Hectare'] = df['Total_Production'] / df['Harvest_Area']\n",
        "\n",
        "if 'Total_Farmers' in df.columns and 'Harvest_Area' in df.columns:\n",
        "    df['Farmers_per_Hectare'] = df['Total_Farmers'] / df['Harvest_Area']\n",
        "\n",
        "print(\"✅ New features created:\")\n",
        "for col in ['Total_Farmers', 'Yield_per_Hectare', 'Farmers_per_Hectare']:\n",
        "    if col in df.columns:\n",
        "        print(f\"- {col}\")\n",
        "\n",
        "print(\"\\n📌 First 5 rows with new features:\")\n",
        "print(df.head())"
      ]
    },
    {
      "cell_type": "code",
      "execution_count": 13,
      "metadata": {
        "colab": {
          "base_uri": "https://localhost:8080/"
        },
        "id": "xjAeZc8pOUf4",
        "outputId": "86bbd239-6a4f-49ed-ea9f-a782785fb67d"
      },
      "outputs": [
        {
          "name": "stdout",
          "output_type": "stream",
          "text": [
            "Correlation of new features with Total_Production:\n",
            "Total_Production    1.0\n",
            "Name: Total_Production, dtype: float64\n"
          ]
        }
      ],
      "source": [
        "df.replace(\"-\", np.nan, inplace=True)\n",
        "\n",
        "\n",
        "for col in df.columns:\n",
        "    df[col] = pd.to_numeric(df[col], errors='ignore')\n",
        "\n",
        "\n",
        "if all(col in df.columns for col in ['Male_Farmers', 'Female_Farmers']):\n",
        "    df['Total_Farmers'] = df['Male_Farmers'] + df['Female_Farmers']\n",
        "\n",
        "if all(col in df.columns for col in ['Total_Production', 'Harvest_Area']):\n",
        "    df['Yield_per_Hectare'] = df['Total_Production'] / df['Harvest_Area']\n",
        "\n",
        "if 'Total_Farmers' in df.columns and 'Harvest_Area' in df.columns:\n",
        "    df['Farmers_per_Hectare'] = df['Total_Farmers'] / df['Harvest_Area']\n",
        "\n",
        "# Calculate correlation with target\n",
        "if 'Total_Production' in df.columns:\n",
        "    features_to_check = [col for col in ['Total_Farmers', 'Yield_per_Hectare', 'Farmers_per_Hectare'] if col in df.columns]\n",
        "\n",
        "    numeric_df = df[features_to_check + ['Total_Production']].apply(pd.to_numeric, errors='coerce')\n",
        "    correlation_with_target = numeric_df.corr()\n",
        "\n",
        "    print(\"Correlation of new features with Total_Production:\")\n",
        "    print(correlation_with_target['Total_Production'].sort_values(ascending=False))\n",
        "else:\n",
        "    print(\"⚠️ Target column 'Total_Production' not found.\")"
      ]
    },
    {
      "cell_type": "code",
      "execution_count": 14,
      "metadata": {
        "colab": {
          "base_uri": "https://localhost:8080/",
          "height": 807
        },
        "id": "DXF4OC9sO8fj",
        "outputId": "2eb13c28-ff3f-48a0-8fba-3ffaa898b249"
      },
      "outputs": [
        {
          "data": {
            "image/png": "[encoded data removed]",
            "text/plain": [
              "<Figure size 1000x800 with 2 Axes>"
            ]
          },
          "metadata": {},
          "output_type": "display_data"
        }
      ],
      "source": [
        "# Correlation matrix\n",
        "corr_matrix = df.corr(numeric_only=True)\n",
        "\n",
        "# Plot heatmap\n",
        "plt.figure(figsize=(10, 8))\n",
        "sns.heatmap(corr_matrix, annot=True, cmap='coolwarm', fmt=\".2f\", square=True)\n",
        "plt.title(\"Correlation Matrix Heatmap (including engineered features)\")\n",
        "plt.tight_layout()\n",
        "plt.show()"
      ]
    },
    {
      "cell_type": "markdown",
      "metadata": {
        "id": "-MDeSabtPF-T"
      },
      "source": [
        "#  Prepare Data for Training"
      ]
    },
    {
      "cell_type": "code",
      "execution_count": 15,
      "metadata": {
        "colab": {
          "base_uri": "https://localhost:8080/"
        },
        "id": "-mvp1wNMPAz2",
        "outputId": "2325df44-b31b-40dc-99dc-b527fff7d6f8"
      },
      "outputs": [
        {
          "name": "stdout",
          "output_type": "stream",
          "text": [
            "Feature matrix shape: (26, 64)\n",
            "Target vector shape: (26,)\n"
          ]
        }
      ],
      "source": [
        "df.replace(\"-\", pd.NA, inplace=True)\n",
        "for col in df.columns:\n",
        "    df[col] = pd.to_numeric(df[col], errors='ignore')\n",
        "\n",
        "# Example features (adjust according to your CSV columns)\n",
        "# Remove non-numeric text columns unless you plan to one-hot encode them\n",
        "feature_cols = ['District', 'Major_Schemes_Sown', 'Minor_Schemes_Sown', 'Rainfed_Sown', 'All_Schemes_Sown', 'Major_Schemes_Harvested', 'Minor_Schemes_Harvested', 'Rainfed_Harvested', 'All_Schemes_Harvested', 'Major_Schemes_Yield', 'Minor_Schemes_Yield', 'Rainfed_Yield', 'Average_Yield', 'Nett_Extent_Harvested', 'Total_Production']\n",
        "target_col = 'Total_Production'\n",
        "\n",
        "# If you have categorical columns like 'Province', encode them\n",
        "categorical_cols = df.select_dtypes(include=['object']).columns.tolist()\n",
        "categorical_cols = [col for col in categorical_cols if col not in [target_col]]\n",
        "\n",
        "df_encoded = pd.get_dummies(df[feature_cols + categorical_cols], drop_first=True)\n",
        "\n",
        "# Define X (features) and y (target)\n",
        "X = df_encoded.values\n",
        "y = pd.to_numeric(df[target_col], errors='coerce').values  # Ensure numeric target\n",
        "\n",
        "print(f\"Feature matrix shape: {X.shape}\")\n",
        "print(f\"Target vector shape: {y.shape}\")"
      ]
    },
    {
      "cell_type": "markdown",
      "metadata": {
        "id": "Mu3wFU0qP90e"
      },
      "source": [
        "#  Split Data"
      ]
    },
    {
      "cell_type": "code",
      "execution_count": 16,
      "metadata": {
        "colab": {
          "base_uri": "https://localhost:8080/"
        },
        "id": "RSY1gWA3QAJ-",
        "outputId": "ded7f9ea-bf49-479f-857d-d622ed0d66bc"
      },
      "outputs": [
        {
          "name": "stdout",
          "output_type": "stream",
          "text": [
            "Shapes:\n",
            "X: (25, 37)\n",
            "y: (25,)\n",
            "X_train: (20, 37)\n",
            "y_train: (20,)\n"
          ]
        }
      ],
      "source": [
        "target_col = 'Total_Production'\n",
        "\n",
        "\n",
        "df = df.dropna(subset=[target_col])\n",
        "numeric_cols = df.select_dtypes(include=['number']).columns.tolist()\n",
        "numeric_cols = [col for col in numeric_cols if col != target_col]\n",
        "\n",
        "categorical_cols = df.select_dtypes(include=['object']).columns.tolist()\n",
        "\n",
        "# One-hot encode categorical features\n",
        "df_encoded = pd.get_dummies(df[numeric_cols + categorical_cols], drop_first=True)\n",
        "\n",
        "# Define X and y with matching indexes\n",
        "X = df_encoded.values\n",
        "y = df[target_col].values\n",
        "\n",
        "# Train/test split\n",
        "X_train, X_test, y_train, y_test = train_test_split(\n",
        "    X, y, test_size=0.2, random_state=42\n",
        ")\n",
        "\n",
        "print(\"Shapes:\")\n",
        "print(\"X:\", X.shape)\n",
        "print(\"y:\", y.shape)\n",
        "print(\"X_train:\", X_train.shape)\n",
        "print(\"y_train:\", y_train.shape)"
      ]
    },
    {
      "cell_type": "code",
      "execution_count": 17,
      "metadata": {
        "colab": {
          "base_uri": "https://localhost:8080/"
        },
        "id": "HodtB6HnQjNJ",
        "outputId": "672b33ed-0eb0-4e6f-a080-cf7f3cb62fcc"
      },
      "outputs": [
        {
          "name": "stdout",
          "output_type": "stream",
          "text": [
            "Training set size: 20 samples\n",
            "Test set size: 5 samples\n",
            "Training set distribution: [0 0 0 ... 0 0 1]\n",
            "Test set distribution: [0 0 0 ... 0 0 1]\n"
          ]
        }
      ],
      "source": [
        "y_train_int = y_train.astype(int)\n",
        "y_test_int = y_test.astype(int)\n",
        "\n",
        "print(f\"Training set size: {X_train.shape[0]} samples\")\n",
        "print(f\"Test set size: {X_test.shape[0]} samples\")\n",
        "print(f\"Training set distribution: {np.bincount(y_train_int)}\")\n",
        "print(f\"Test set distribution: {np.bincount(y_test_int)}\")\n"
      ]
    },
    {
      "cell_type": "markdown",
      "metadata": {
        "id": "StrxuuGXQhQ8"
      },
      "source": [
        "# Feature Scaling"
      ]
    },
    {
      "cell_type": "code",
      "execution_count": 18,
      "metadata": {
        "colab": {
          "base_uri": "https://localhost:8080/"
        },
        "id": "MxRUlv0RRGp5",
        "outputId": "cd4b6927-e7cb-4fc8-bb16-6b1610941635"
      },
      "outputs": [
        {
          "name": "stdout",
          "output_type": "stream",
          "text": [
            "✓ Features scaled using StandardScaler\n"
          ]
        }
      ],
      "source": [
        "scaler = StandardScaler()\n",
        "X_train_scaled = scaler.fit_transform(X_train)\n",
        "X_test_scaled = scaler.transform(X_test)\n",
        "\n",
        "print(\"✓ Features scaled using StandardScaler\")"
      ]
    },
    {
      "cell_type": "markdown",
      "metadata": {
        "id": "fhSnlagNRQlS"
      },
      "source": [
        "#  Model Training and Evaluation"
      ]
    },
    {
      "cell_type": "code",
      "execution_count": 19,
      "metadata": {
        "id": "mUuz7a7IRS5-"
      },
      "outputs": [],
      "source": [
        "# Initialize models\n",
        "models = {\n",
        "    \"Linear Regression\": LinearRegression(),  # No max_iter\n",
        "    \"Random Forest\": RandomForestClassifier(n_estimators=100, random_state=42)\n",
        "}"
      ]
    },
    {
      "cell_type": "code",
      "execution_count": 20,
      "metadata": {
        "colab": {
          "base_uri": "https://localhost:8080/"
        },
        "id": "iMcm1LzCRY86",
        "outputId": "656b10d7-4d39-446c-c739-9f1c3f5a8b2a"
      },
      "outputs": [
        {
          "name": "stdout",
          "output_type": "stream",
          "text": [
            "✅ Models trained successfully: Linear Regression & Random Forest\n",
            "\n",
            " Linear Regression:\n",
            "MSE: 275169582.8005036\n",
            "R²: 0.9583860735347892\n",
            "\n",
            " Random Forest Regressor:\n",
            "MSE: 591096628.84088\n",
            "R²: 0.9106083913924031\n"
          ]
        }
      ],
      "source": [
        "df = df.replace(\"-\", np.nan)\n",
        "df = df.apply(pd.to_numeric, errors='ignore')\n",
        "\n",
        "# Target column\n",
        "target_col = \"Total_Production\"\n",
        "\n",
        "# Ensure target exists\n",
        "if target_col not in df.columns:\n",
        "    raise ValueError(f\"Target column '{target_col}' not found in CSV.\")\n",
        "\n",
        "# Separate features and target\n",
        "X = df.drop(target_col, axis=1)\n",
        "y = df[target_col]\n",
        "\n",
        "# Fill missing numeric values with median\n",
        "X = X.fillna(X.median(numeric_only=True))\n",
        "\n",
        "# Fill missing categorical values with mode\n",
        "X = X.fillna(X.mode().iloc[0])\n",
        "\n",
        "# One-hot encode categorical variables\n",
        "X = pd.get_dummies(X, drop_first=True)\n",
        "\n",
        "# Fill any remaining NaNs in features\n",
        "X = X.fillna(0)\n",
        "\n",
        "# Drop rows where target is NaN\n",
        "mask = ~y.isna()\n",
        "X = X[mask]\n",
        "y = y[mask]\n",
        "\n",
        "# Train-test split\n",
        "X_train, X_test, y_train, y_test = train_test_split(\n",
        "    X, y, test_size=0.2, random_state=42\n",
        ")\n",
        "\n",
        "# Model 1: Linear Regression\n",
        "lr_model = LinearRegression()\n",
        "lr_model.fit(X_train, y_train)\n",
        "\n",
        "# Model 2: Random Forest Regressor\n",
        "rf_model = RandomForestRegressor(n_estimators=100, random_state=42)\n",
        "rf_model.fit(X_train, y_train)\n",
        "\n",
        "# Predictions\n",
        "lr_preds = lr_model.predict(X_test)\n",
        "rf_preds = rf_model.predict(X_test)\n",
        "\n",
        "# Metrics\n",
        "print(\"✅ Models trained successfully: Linear Regression & Random Forest\")\n",
        "print(\"\\n Linear Regression:\")\n",
        "print(\"MSE:\", mean_squared_error(y_test, lr_preds))\n",
        "print(\"R²:\", r2_score(y_test, lr_preds))\n",
        "\n",
        "print(\"\\n Random Forest Regressor:\")\n",
        "print(\"MSE:\", mean_squared_error(y_test, rf_preds))\n",
        "print(\"R²:\", r2_score(y_test, rf_preds))"
      ]
    },
    {
      "cell_type": "markdown",
      "metadata": {
        "id": "a7Ci-6C6T9K_"
      },
      "source": [
        "# Use cross-validation for model evaluation"
      ]
    },
    {
      "cell_type": "code",
      "execution_count": 21,
      "metadata": {
        "colab": {
          "base_uri": "https://localhost:8080/"
        },
        "id": "Q7sJ9-mzT7ls",
        "outputId": "fdf7f8bb-d294-4af3-c3e7-0da2b98207de"
      },
      "outputs": [
        {
          "name": "stdout",
          "output_type": "stream",
          "text": [
            "LogisticRegression RMSE for each fold: [17760.63126154 22046.86796527 23488.58153384 58345.19366204\n",
            " 16751.68450658]\n",
            "LogisticRegression Average RMSE: 27678.59178585307\n",
            "\n",
            "Random Forest RMSE for each fold: [  4193.94353605  22044.03046395  30909.97575897  62067.92367124\n",
            " 712975.01994304]\n",
            "Random Forest Average RMSE: 166438.17867464887\n"
          ]
        }
      ],
      "source": [
        "lr_scores = cross_val_score(\n",
        "    lr_model, X, y,\n",
        "    scoring='neg_mean_squared_error',\n",
        "    cv=5\n",
        ")\n",
        "lr_rmse = np.sqrt(-lr_scores)\n",
        "print(\"LogisticRegression RMSE for each fold:\", lr_rmse)\n",
        "print(\"LogisticRegression Average RMSE:\", lr_rmse.mean())\n",
        "\n",
        "# Random Forest cross-validation\n",
        "rf_scores = cross_val_score(\n",
        "    rf_model, X, y,\n",
        "    scoring='neg_mean_squared_error',\n",
        "    cv=5\n",
        ")\n",
        "rf_rmse = np.sqrt(-rf_scores)\n",
        "print(\"\\nRandom Forest RMSE for each fold:\", rf_rmse)\n",
        "print(\"Random Forest Average RMSE:\", rf_rmse.mean())"
      ]
    },
    {
      "cell_type": "markdown",
      "metadata": {
        "id": "_JVgcRq7UN2e"
      },
      "source": [
        "# Compare model performance using appropriate metrics"
      ]
    },
    {
      "cell_type": "code",
      "execution_count": 22,
      "metadata": {
        "colab": {
          "base_uri": "https://localhost:8080/"
        },
        "id": "whGaYj0PUNCS",
        "outputId": "c96e05da-e97c-45b6-9b00-14a8fad97d53"
      },
      "outputs": [
        {
          "name": "stdout",
          "output_type": "stream",
          "text": [
            "Logistic Regression Performance:\n",
            "-------------------------------\n",
            "Accuracy: 0.000\n",
            "Precision: 0.000\n",
            "Recall: 0.000\n",
            "F1 Score: 0.000\n",
            "\n",
            "Classification Report:\n",
            "              precision    recall  f1-score   support\n",
            "\n",
            "      4464.0       0.00      0.00      0.00       1.0\n",
            "      8527.0       0.00      0.00      0.00       0.0\n",
            "     10918.0       0.00      0.00      0.00       0.0\n",
            "     17782.0       0.00      0.00      0.00       1.0\n",
            "     23973.0       0.00      0.00      0.00       1.0\n",
            "     41359.0       0.00      0.00      0.00       0.0\n",
            "     65066.0       0.00      0.00      0.00       0.0\n",
            "    105366.0       0.00      0.00      0.00       0.0\n",
            "    146310.0       0.00      0.00      0.00       1.0\n",
            "    206292.0       0.00      0.00      0.00       1.0\n",
            "\n",
            "    accuracy                           0.00       5.0\n",
            "   macro avg       0.00      0.00      0.00       5.0\n",
            "weighted avg       0.00      0.00      0.00       5.0\n",
            "\n",
            "Confusion Matrix:\n",
            "[[0 0 1 0 0 0 0 0 0 0]\n",
            " [0 0 0 0 0 0 0 0 0 0]\n",
            " [0 0 0 0 0 0 0 0 0 0]\n",
            " [0 1 0 0 0 0 0 0 0 0]\n",
            " [0 0 0 0 0 1 0 0 0 0]\n",
            " [0 0 0 0 0 0 0 0 0 0]\n",
            " [0 0 0 0 0 0 0 0 0 0]\n",
            " [0 0 0 0 0 0 0 0 0 0]\n",
            " [0 0 0 0 0 0 0 1 0 0]\n",
            " [0 0 0 0 0 0 1 0 0 0]]\n",
            "\n",
            "Random Forest Performance:\n",
            "--------------------------\n",
            "Accuracy: 0.000\n",
            "Precision: 0.000\n",
            "Recall: 0.000\n",
            "F1 Score: 0.000\n",
            "\n",
            "Classification Report:\n",
            "              precision    recall  f1-score   support\n",
            "\n",
            "      4464.0       0.00      0.00      0.00       1.0\n",
            "      8527.0       0.00      0.00      0.00       0.0\n",
            "     17782.0       0.00      0.00      0.00       1.0\n",
            "     21243.0       0.00      0.00      0.00       0.0\n",
            "     23973.0       0.00      0.00      0.00       1.0\n",
            "     24355.0       0.00      0.00      0.00       0.0\n",
            "     55932.0       0.00      0.00      0.00       0.0\n",
            "    126977.0       0.00      0.00      0.00       0.0\n",
            "    146310.0       0.00      0.00      0.00       1.0\n",
            "    206292.0       0.00      0.00      0.00       1.0\n",
            "\n",
            "    accuracy                           0.00       5.0\n",
            "   macro avg       0.00      0.00      0.00       5.0\n",
            "weighted avg       0.00      0.00      0.00       5.0\n",
            "\n",
            "Confusion Matrix:\n",
            "[[0 1 0 0 0 0 0 0 0 0]\n",
            " [0 0 0 0 0 0 0 0 0 0]\n",
            " [0 0 0 0 0 1 0 0 0 0]\n",
            " [0 0 0 0 0 0 0 0 0 0]\n",
            " [0 0 0 1 0 0 0 0 0 0]\n",
            " [0 0 0 0 0 0 0 0 0 0]\n",
            " [0 0 0 0 0 0 0 0 0 0]\n",
            " [0 0 0 0 0 0 0 0 0 0]\n",
            " [0 0 0 0 0 0 0 1 0 0]\n",
            " [0 0 0 0 0 0 1 0 0 0]]\n",
            "\n",
            "✅ Logistic Regression performs better based on accuracy\n"
          ]
        }
      ],
      "source": [
        "for col in ['District', 'Major_Schemes_Sown', 'Minor_Schemes_Sown']:\n",
        "    if col in df.columns:\n",
        "        df.drop(col, axis=1, inplace=True)\n",
        "\n",
        "# Separate features & target\n",
        "X = df.drop(\"Total_Production\", axis=1)\n",
        "y = df[\"Total_Production\"]\n",
        "\n",
        "# Fill missing numeric values\n",
        "X = X.fillna(X.median(numeric_only=True))\n",
        "\n",
        "# Fill missing categorical values & encode\n",
        "X = X.fillna(X.mode().iloc[0])\n",
        "X = pd.get_dummies(X, drop_first=True)\n",
        "\n",
        "# Train-test split\n",
        "X_train, X_test, y_train, y_test = train_test_split(\n",
        "    X, y, test_size=0.2, random_state=42\n",
        ")\n",
        "\n",
        "# Train models\n",
        "lr_model = LogisticRegression(max_iter=1000)\n",
        "lr_model.fit(X_train, y_train)\n",
        "\n",
        "rf_model = RandomForestClassifier(n_estimators=100, random_state=42)\n",
        "rf_model.fit(X_train, y_train)\n",
        "\n",
        "# Predictions\n",
        "y_pred_lr = lr_model.predict(X_test)\n",
        "y_pred_rf = rf_model.predict(X_test)\n",
        "\n",
        "# Logistic Regression performance\n",
        "print(\"Logistic Regression Performance:\")\n",
        "print(\"-------------------------------\")\n",
        "print(f\"Accuracy: {accuracy_score(y_test, y_pred_lr):.3f}\")\n",
        "print(f\"Precision: {precision_score(y_test, y_pred_lr, average='weighted'):.3f}\")\n",
        "print(f\"Recall: {recall_score(y_test, y_pred_lr, average='weighted'):.3f}\")\n",
        "print(f\"F1 Score: {f1_score(y_test, y_pred_lr, average='weighted'):.3f}\")\n",
        "print(\"\\nClassification Report:\")\n",
        "print(classification_report(y_test, y_pred_lr))\n",
        "print(\"Confusion Matrix:\")\n",
        "print(confusion_matrix(y_test, y_pred_lr))\n",
        "\n",
        "# Random Forest performance\n",
        "print(\"\\nRandom Forest Performance:\")\n",
        "print(\"--------------------------\")\n",
        "print(f\"Accuracy: {accuracy_score(y_test, y_pred_rf):.3f}\")\n",
        "print(f\"Precision: {precision_score(y_test, y_pred_rf, average='weighted'):.3f}\")\n",
        "print(f\"Recall: {recall_score(y_test, y_pred_rf, average='weighted'):.3f}\")\n",
        "print(f\"F1 Score: {f1_score(y_test, y_pred_rf, average='weighted'):.3f}\")\n",
        "print(\"\\nClassification Report:\")\n",
        "print(classification_report(y_test, y_pred_rf))\n",
        "print(\"Confusion Matrix:\")\n",
        "print(confusion_matrix(y_test, y_pred_rf))\n",
        "\n",
        "# Model comparison\n",
        "if accuracy_score(y_test, y_pred_rf) > accuracy_score(y_test, y_pred_lr):\n",
        "    print(\"\\n✅ Random Forest performs better based on accuracy\")\n",
        "else:\n",
        "    print(\"\\n✅ Logistic Regression performs better based on accuracy\")"
      ]
    },
    {
      "cell_type": "code",
      "execution_count": 24,
      "metadata": {},
      "outputs": [
        {
          "name": "stdout",
          "output_type": "stream",
          "text": [
            "\n",
            "✅ Best model selected: Logistic Regression\n"
          ]
        }
      ],
      "source": [
        "# Model comparison & selection\n",
        "if accuracy_score(y_test, y_pred_rf) > accuracy_score(y_test, y_pred_lr):\n",
        "    best_model = rf_model\n",
        "    best_model_name = \"Random Forest\"\n",
        "else:\n",
        "    best_model = lr_model\n",
        "    best_model_name = \"Logistic Regression\"\n",
        "\n",
        "print(f\"\\n✅ Best model selected: {best_model_name}\")"
      ]
    },
    {
      "cell_type": "code",
      "execution_count": 25,
      "metadata": {},
      "outputs": [
        {
          "name": "stdout",
          "output_type": "stream",
          "text": [
            "✅ Logistic Regression saved as best_model.pkl\n"
          ]
        }
      ],
      "source": [
        "# Save model\n",
        "with open(\"best_model.pkl\", \"wb\") as f:\n",
        "    pickle.dump(best_model, f)\n",
        "\n",
        "print(f\"✅ {best_model_name} saved as best_model.pkl\")"
      ]
    },
    {
      "cell_type": "code",
      "execution_count": 28,
      "metadata": {
        "colab": {
          "base_uri": "https://localhost:8080/"
        },
        "id": "ZMlatdOev1HR",
        "outputId": "7f5acf2e-82c4-4881-a3aa-1ed2edecb898"
      },
      "outputs": [
        {
          "name": "stdout",
          "output_type": "stream",
          "text": [
            "\n",
            "Model Performance:\n",
            "Total_Production → R²: 0.871, MAE: 25440.62\n",
            "Average_Yield → R²: 0.644, MAE: 598.55\n",
            "Nett_Extent_Harvested → R²: 0.946, MAE: 3412.25\n",
            "Rainfed_Yield → R²: -0.774, MAE: 567.37\n",
            "All_Schemes_Harvested → R²: 0.934, MAE: 3735.78\n",
            "\n",
            "Testing with a sample row from dataset...\n",
            "📍 Sample District: COLOMBO\n",
            "   → Total_Production: 15,328.69\n",
            "   → Average_Yield: 3,277.68\n",
            "   → Nett_Extent_Harvested: 4,898.51\n",
            "   → Rainfed_Yield: 2,954.10\n",
            "   → All_Schemes_Harvested: 6,092.26\n",
            "\n",
            "============================================================\n",
            "🌾 AGRICULTURAL PRODUCTION PREDICTOR 🌾\n",
            "============================================================\n",
            "Enter your field data:\n",
            "\n",
            "District name: kandy\n",
            "Major Schemes Sown: 562\n",
            "Minor Schemes Sown: 6586\n",
            "Rainfed Sown: 3535\n",
            "All Schemes Sown: 9896\n",
            "Major Schemes Harvested: 8000\n",
            "Minor Schemes Harvested: 8400\n",
            "Rainfed Harvested: 5000\n",
            "All Schemes Harvested: 6000\n",
            "Major Schemes Yield: 50000\n",
            "Minor Schemes Yield: 25000\n",
            "Rainfed Yield: 6500\n",
            "\n",
            "============================================================\n",
            "🌾 AGRICULTURAL PRODUCTION PREDICTION RESULTS 🌾\n",
            "============================================================\n",
            "📍 District: Kandy\n",
            "------------------------------------------------------------\n",
            "✅ Total_Production: 45,178.33 (metric tons)\n",
            "🌱 Average_Yield: 3,926.81 (tons/hectare)\n",
            "🌾 Nett_Extent_Harvested: 11,308.94 (hectares)\n",
            "🌱 Rainfed_Yield: 3,337.76 (tons/hectare)\n",
            "📊 All_Schemes_Harvested: 13,216.49\n",
            "============================================================\n",
            "\n",
            "Predict again? (y/n): n\n",
            "\n",
            "🙏 Thank you for using the Agricultural Production Predictor!\n"
          ]
        }
      ],
      "source": [
        "import pandas as pd\n",
        "import numpy as np\n",
        "from sklearn.model_selection import train_test_split\n",
        "from sklearn.ensemble import RandomForestRegressor\n",
        "from sklearn.impute import SimpleImputer\n",
        "from sklearn.preprocessing import OneHotEncoder\n",
        "from sklearn.compose import ColumnTransformer\n",
        "from sklearn.pipeline import Pipeline\n",
        "from sklearn.metrics import r2_score, mean_absolute_error\n",
        "\n",
        "# 1. Load CSV and clean\n",
        "df = pd.read_csv(\"2023 Yala.csv\")\n",
        "\n",
        "# Replace '-' and similar placeholders with NaN\n",
        "df.replace([\"-\", \"NA\", \"NaN\", \"\"], np.nan, inplace=True)\n",
        "\n",
        "# Ensure numeric columns are actually numeric\n",
        "for col in df.columns:\n",
        "    if col != \"District\":  # leave categorical as is\n",
        "        df[col] = pd.to_numeric(df[col], errors='coerce')\n",
        "\n",
        "# 2. Define features & multiple targets\n",
        "target_columns = [\n",
        "    \"Total_Production\",\n",
        "    \"Average_Yield\",\n",
        "    \"Nett_Extent_Harvested\",\n",
        "    \"Rainfed_Yield\",\n",
        "    \"All_Schemes_Harvested\"\n",
        "]\n",
        "\n",
        "# Drop rows where any of the targets are missing\n",
        "df.dropna(subset=target_columns, inplace=True)\n",
        "\n",
        "categorical_features = [\"District\"]\n",
        "numeric_features = [col for col in df.columns if col not in categorical_features + target_columns]\n",
        "\n",
        "X = df.drop(columns=target_columns)\n",
        "y = df[target_columns]   # <-- multi-output target (DataFrame)\n",
        "\n",
        "# 3. Preprocessor\n",
        "preprocessor = ColumnTransformer(\n",
        "    transformers=[\n",
        "        (\"num\", SimpleImputer(strategy=\"median\"), numeric_features),\n",
        "        (\"cat\", Pipeline([\n",
        "            (\"imputer\", SimpleImputer(strategy=\"most_frequent\")),\n",
        "            (\"encoder\", OneHotEncoder(handle_unknown=\"ignore\"))\n",
        "        ]), categorical_features)\n",
        "    ]\n",
        ")\n",
        "\n",
        "# 4. Model pipeline (RandomForest supports multi-output)\n",
        "model = Pipeline([\n",
        "    (\"preprocessor\", preprocessor),\n",
        "    (\"regressor\", RandomForestRegressor(\n",
        "        n_estimators=500,\n",
        "        max_depth=10,\n",
        "        random_state=42\n",
        "    ))\n",
        "])\n",
        "\n",
        "# 5. Train/test split\n",
        "X_train, X_test, y_train, y_test = train_test_split(\n",
        "    X, y, test_size=0.2, random_state=42\n",
        ")\n",
        "\n",
        "# 6. Fit model\n",
        "model.fit(X_train, y_train)\n",
        "\n",
        "# 7. Evaluate\n",
        "y_pred = model.predict(X_test)\n",
        "\n",
        "print(\"\\nModel Performance:\")\n",
        "for i, col in enumerate(target_columns):\n",
        "    print(f\"{col} → R²: {r2_score(y_test[col], y_pred[:, i]):.3f}, \"\n",
        "          f\"MAE: {mean_absolute_error(y_test[col], y_pred[:, i]):.2f}\")\n",
        "\n",
        "# 8. Prediction function with clear output\n",
        "def predict_production():\n",
        "    print(\"\\n\" + \"=\"*60)\n",
        "    print(\"🌾 AGRICULTURAL PRODUCTION PREDICTOR 🌾\")\n",
        "    print(\"=\"*60)\n",
        "    print(\"Enter your field data:\\n\")\n",
        "\n",
        "    try:\n",
        "        data = {\n",
        "            \"District\": input(\"District name: \").title(),\n",
        "            \"Major_Schemes_Sown\": float(input(\"Major Schemes Sown: \")),\n",
        "            \"Minor_Schemes_Sown\": float(input(\"Minor Schemes Sown: \")),\n",
        "            \"Rainfed_Sown\": float(input(\"Rainfed Sown: \")),\n",
        "            \"All_Schemes_Sown\": float(input(\"All Schemes Sown: \")),\n",
        "            \"Major_Schemes_Harvested\": float(input(\"Major Schemes Harvested: \")),\n",
        "            \"Minor_Schemes_Harvested\": float(input(\"Minor Schemes Harvested: \")),\n",
        "            \"Rainfed_Harvested\": float(input(\"Rainfed Harvested: \")),\n",
        "            \"All_Schemes_Harvested\": float(input(\"All Schemes Harvested: \")),\n",
        "            \"Major_Schemes_Yield\": float(input(\"Major Schemes Yield: \")),\n",
        "            \"Minor_Schemes_Yield\": float(input(\"Minor Schemes Yield: \")),\n",
        "            \"Rainfed_Yield\": float(input(\"Rainfed Yield: \")),\n",
        "        }\n",
        "    except ValueError:\n",
        "        print(\"\\n❌ Invalid input! Please enter numerical values where required.\")\n",
        "        return\n",
        "\n",
        "    input_df = pd.DataFrame([data])\n",
        "    predictions = model.predict(input_df)[0]\n",
        "\n",
        "    # Display formatted results\n",
        "    print(\"\\n\" + \"=\"*60)\n",
        "    print(\"🌾 AGRICULTURAL PRODUCTION PREDICTION RESULTS 🌾\")\n",
        "    print(\"=\"*60)\n",
        "    print(f\"📍 District: {input_df['District'].values[0]}\")\n",
        "    print(\"-\" * 60)\n",
        "\n",
        "    for i, col in enumerate(target_columns):\n",
        "        if col == \"Total_Production\":\n",
        "            print(f\"✅ {col}: {predictions[i]:,.2f} (metric tons)\")\n",
        "        elif \"Yield\" in col:\n",
        "            print(f\"🌱 {col}: {predictions[i]:,.2f} (tons/hectare)\")\n",
        "        elif \"Extent\" in col:\n",
        "            print(f\"🌾 {col}: {predictions[i]:,.2f} (hectares)\")\n",
        "        else:\n",
        "            print(f\"📊 {col}: {predictions[i]:,.2f}\")\n",
        "\n",
        "    print(\"=\"*60)\n",
        "\n",
        "# 9. Test with example\n",
        "print(\"\\nTesting with a sample row from dataset...\")\n",
        "sample_input = X.iloc[[0]]\n",
        "sample_prediction = model.predict(sample_input)[0]\n",
        "print(f\"📍 Sample District: {sample_input['District'].values[0]}\")\n",
        "for i, col in enumerate(target_columns):\n",
        "    print(f\"   → {col}: {sample_prediction[i]:,.2f}\")\n",
        "\n",
        "# 10. Interactive loop\n",
        "while True:\n",
        "    predict_production()\n",
        "    if input(\"\\nPredict again? (y/n): \").lower() != 'y':\n",
        "        print(\"\\n🙏 Thank you for using the Agricultural Production Predictor!\")\n",
        "        break\n"
      ]
    }
  ],
  "metadata": {
    "colab": {
      "provenance": []
    },
    "kernelspec": {
      "display_name": "chamika",
      "language": "python",
      "name": "python3"
    },
    "language_info": {
      "codemirror_mode": {
        "name": "ipython",
        "version": 3
      },
      "file_extension": ".py",
      "mimetype": "text/x-python",
      "name": "python",
      "nbconvert_exporter": "python",
      "pygments_lexer": "ipython3",
      "version": "3.13.5"
    }
  },
  "nbformat": 4,
  "nbformat_minor": 0
}
